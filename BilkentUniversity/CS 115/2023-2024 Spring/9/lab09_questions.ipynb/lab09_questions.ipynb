{
 "cells": [
  {
   "cell_type": "markdown",
   "id": "ceefced5",
   "metadata": {},
   "source": [
    "# Lab 09\n",
    "## Complete the questions below in the space provided."
   ]
  },
  {
   "cell_type": "markdown",
   "id": "d92dbdc5",
   "metadata": {},
   "source": [
    "Import numpy for use in the program"
   ]
  },
  {
   "cell_type": "markdown",
   "id": "8f64e60e",
   "metadata": {},
   "source": [
    "Before starting, download the files chicken_weight.csv and chicken_data.csv.  The file chicken_weight.csv is a comma delimited file that stores the weights of a set of chickens and time, which is the time in days since their birth.  The file chicken_data.csv is a comma-delimited file that stores data for the same set of chickens in the same order.  The file chicken_data.csv includes the columns: chick, (an identifier for each chicken) and diet (value between 1 - 4)."
   ]
  },
  {
   "cell_type": "code",
   "execution_count": 123,
   "id": "3ce0b5c6",
   "metadata": {},
   "outputs": [],
   "source": [
    "import numpy as np "
   ]
  },
  {
   "cell_type": "markdown",
   "id": "5534c885",
   "metadata": {},
   "source": [
    "Read the data in the comma-delimited file, chicken_weight.csv into a numpy array, weights"
   ]
  },
  {
   "cell_type": "code",
   "execution_count": 124,
   "id": "b973823c",
   "metadata": {},
   "outputs": [],
   "source": [
    "weightData = np.loadtxt('chicken_weight.csv', delimiter = ',')"
   ]
  },
  {
   "cell_type": "markdown",
   "id": "c3f09241",
   "metadata": {},
   "source": [
    "Read the data in the comma-delimited file, chicken_data.csv into a numpy array, data"
   ]
  },
  {
   "cell_type": "code",
   "execution_count": 125,
   "id": "3d50445b",
   "metadata": {},
   "outputs": [],
   "source": [
    "chickData = np.loadtxt('chicken_data.csv', delimiter = ',', skiprows = 1)"
   ]
  },
  {
   "cell_type": "markdown",
   "id": "17f52e3e",
   "metadata": {},
   "source": [
    "Merge the numpy arrays, weights and data into a two-dimensional numpy array, chicken_data.  The first column should store the weights, and the remaining columns should store the time (in days) from birth, the chicken identifier and the chicken diet (1 - 4)."
   ]
  },
  {
   "cell_type": "code",
   "execution_count": 126,
   "id": "e9548244",
   "metadata": {},
   "outputs": [],
   "source": [
    "chicken_data = np.hstack([weightData.T, chickData])"
   ]
  },
  {
   "cell_type": "markdown",
   "id": "a772c39c",
   "metadata": {},
   "source": [
    "Display the mean weight and time for all chickens."
   ]
  },
  {
   "cell_type": "code",
   "execution_count": 127,
   "id": "a5db3a7d",
   "metadata": {},
   "outputs": [
    {
     "name": "stdout",
     "output_type": "stream",
     "text": [
      "Mean weight: 121.81833910034602\n",
      "Mean time: 21.43598615916955\n"
     ]
    }
   ],
   "source": [
    "print(\"Mean weight:\",np.mean(chicken_data[:,0]))\n",
    "print(\"Mean time:\",np.mean(chicken_data[:,1]))"
   ]
  },
  {
   "cell_type": "markdown",
   "id": "2682797b",
   "metadata": {},
   "source": [
    "Display the data for the chick with the id 38."
   ]
  },
  {
   "cell_type": "code",
   "execution_count": 128,
   "id": "9bec57ea",
   "metadata": {},
   "outputs": [
    {
     "name": "stdout",
     "output_type": "stream",
     "text": [
      "Data of the chick with id 38 is [[[ 41.   0.  38.   3.]\n",
      "  [ 49.   4.  38.   3.]\n",
      "  [ 61.   8.  38.   3.]\n",
      "  [ 74.  12.  38.   3.]\n",
      "  [ 98.  16.  38.   3.]\n",
      "  [109.  20.  38.   3.]\n",
      "  [128.  24.  38.   3.]\n",
      "  [154.  28.  38.   3.]\n",
      "  [192.  32.  38.   3.]\n",
      "  [232.  36.  38.   3.]\n",
      "  [280.  40.  38.   3.]\n",
      "  [290.  42.  38.   3.]]]\n"
     ]
    }
   ],
   "source": [
    "index = np.where(chicken_data[:,2] == 38)\n",
    "print(\"Data of the chick with id 38 is\",chicken_data[index,:])"
   ]
  },
  {
   "cell_type": "markdown",
   "id": "47d364c9",
   "metadata": {},
   "source": [
    "Calculate and display the maximum chicken weight."
   ]
  },
  {
   "cell_type": "code",
   "execution_count": 129,
   "id": "ba0b13ba",
   "metadata": {},
   "outputs": [
    {
     "name": "stdout",
     "output_type": "stream",
     "text": [
      "Maximum chicken weight is  373.0\n"
     ]
    }
   ],
   "source": [
    "print(\"Maximum chicken weight is \",np.max(weightData[0,:]))"
   ]
  },
  {
   "cell_type": "markdown",
   "id": "6bd04308",
   "metadata": {},
   "source": [
    "Find and display the age (in days) of the chicken(s) with the maximum weight."
   ]
  },
  {
   "cell_type": "code",
   "execution_count": 130,
   "id": "ccf41676",
   "metadata": {},
   "outputs": [
    {
     "name": "stdout",
     "output_type": "stream",
     "text": [
      "Age of the chickens with maximum weight [42.]\n"
     ]
    }
   ],
   "source": [
    "maxWeight = np.max(chicken_data[:,0])\n",
    "a = chicken_data[chicken_data[:,0] == maxWeight]\n",
    "print(\"Age of the chickens with maximum weight\",a[:,1])"
   ]
  },
  {
   "cell_type": "markdown",
   "id": "7fb1b803",
   "metadata": {},
   "source": [
    "Extract an array containing the weight, time and id of all chickens with diet 4 and save to a file, diet_four_chickens.csv."
   ]
  },
  {
   "cell_type": "code",
   "execution_count": 131,
   "id": "a25f6fbd",
   "metadata": {},
   "outputs": [],
   "source": [
    "a = chicken_data[chicken_data[:,3] == 4]\n",
    "np.savetxt(\"diet_four_chickens.csv.\", a, fmt = \"%.1f\")"
   ]
  }
 ],
 "metadata": {
  "kernelspec": {
   "display_name": "Python 3 (ipykernel)",
   "language": "python",
   "name": "python3"
  },
  "language_info": {
   "codemirror_mode": {
    "name": "ipython",
    "version": 3
   },
   "file_extension": ".py",
   "mimetype": "text/x-python",
   "name": "python",
   "nbconvert_exporter": "python",
   "pygments_lexer": "ipython3",
   "version": "3.11.5"
  }
 },
 "nbformat": 4,
 "nbformat_minor": 5
}
